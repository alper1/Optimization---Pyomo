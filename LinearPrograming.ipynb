{
 "cells": [
  {
   "cell_type": "markdown",
   "metadata": {},
   "source": [
    "###### A company produces a set of products at I plants. It then ships these products to J market zones. For i = 1,...,I y j = 1,...,J, the following data are given:\n",
    "**vi** ≡ variable cost of producing one unit of product at plant i. \n",
    "**cij** ≡ cost of shipping one unit of product from plant i to market j. \n",
    "**dj** ≡ demand for products at market j. \n",
    "**Mi** ≡ maximum number or products produced at plant i. \n",
    "**pj** ≡ selling price for products at market j. \n",
    "**F** ≡maximum transportation capacity between plant i and market j (assume all transportation capacities are equal).\n"
   ]
  },
  {
   "cell_type": "markdown",
   "metadata": {},
   "source": [
    "**a)** (3 points) Formulate the problem (linear program) of maximizing the total proﬁt that the company is facing (total selling revenue - total production and transportation costs) by identifying the optimal production and transportation schedule. Assume also that demand is satisfy with “equality”, i.e., “total product reaching market j” = dj)."
   ]
  },
  {
   "cell_type": "markdown",
   "metadata": {},
   "source": [
    "$$max  \\sum_{i=1}^{I}\\sum_{j=1}^{J} Xij*Pj - Xij*Vi - Xij*Cij  $$\n",
    "\n",
    "$\\displaystyle \\sum_{i=1}^{I} X_{ij} = d_{j} \\quad j=1,...,J \\quad $  \n",
    "\n",
    "$\\displaystyle \\sum_{j=1}^{J} X_{ij} \\le M_{i} \\quad i=1,...,I \\quad $  \n",
    "\n",
    "$X_{ij} \\le F \\quad j=1,...,J \\quad i=1,...,I \\quad $ \n",
    "\n",
    "$X_{ij} \\ge 0 \\quad j=1,...,J \\quad i=1,...,I \\quad $ "
   ]
  },
  {
   "cell_type": "markdown",
   "metadata": {},
   "source": [
    "**b)** (4 points) Implement the model in Pyomo as an “AbstractModel()” and solve it considering 5 plants and 6 markets and randomly generated parameters. For the random generation of these parameters consider uniform distributions within the following ranges: vi ∈ [1.5,2.5], ci,j ∈ [1,2], dj ∈ [275,325], Mi ∈ [400,900], pj ∈ [4,5] y F ∈ [250,350]. "
   ]
  },
  {
   "cell_type": "code",
   "execution_count": 53,
   "metadata": {
    "scrolled": true
   },
   "outputs": [
    {
     "name": "stderr",
     "output_type": "stream",
     "text": [
      "C:\\Users\\alper\\Anaconda2\\lib\\site-packages\\ipykernel_launcher.py:14: DeprecationWarning: This function is deprecated. Please call randint(1, 2 + 1) instead\n",
      "  \n",
      "C:\\Users\\alper\\Anaconda2\\lib\\site-packages\\ipykernel_launcher.py:17: DeprecationWarning: This function is deprecated. Please call randint(275, 325 + 1) instead\n",
      "C:\\Users\\alper\\Anaconda2\\lib\\site-packages\\ipykernel_launcher.py:20: DeprecationWarning: This function is deprecated. Please call randint(400, 900 + 1) instead\n",
      "C:\\Users\\alper\\Anaconda2\\lib\\site-packages\\ipykernel_launcher.py:23: DeprecationWarning: This function is deprecated. Please call randint(4, 5 + 1) instead\n",
      "C:\\Users\\alper\\Anaconda2\\lib\\site-packages\\ipykernel_launcher.py:26: DeprecationWarning: This function is deprecated. Please call randint(250, 350 + 1) instead\n"
     ]
    }
   ],
   "source": [
    "import numpy as np\n",
    "import matplotlib.pyplot as plt\n",
    "%matplotlib inline\n",
    "\n",
    "################ DATA #####################\n",
    "\n",
    "i=5; #number of factories\n",
    "j=6; #number of markets\n",
    "\n",
    "#variable cost of producing one unit of product at plant i.\n",
    "v_i = np.random.uniform(1.5, 2.5, size=i)\n",
    "\n",
    "#cost of shipping one unit of product from plant i to market j.\n",
    "c_ij = np.random.random_integers(1, 2, size=(i,j))\n",
    "\n",
    "#demand for products at market j.\n",
    "d_j = np.random.random_integers(275, 325, size=j)\n",
    "\n",
    "#maximum number or products produced at plant i.\n",
    "m_i = np.random.random_integers(400, 900, size=i)\n",
    "\n",
    "#selling price for products at market j.\n",
    "p_j = np.random.random_integers(4, 5, size=j)\n",
    "\n",
    "#maximum transportation capacity between plant i and market j.\n",
    "F = np.random.random_integers(250, 350)"
   ]
  },
  {
   "cell_type": "code",
   "execution_count": 54,
   "metadata": {
    "collapsed": true
   },
   "outputs": [],
   "source": [
    "from pyomo.environ import *\n",
    "from pyomo.opt import SolverFactory\n",
    "opt = SolverFactory(\"glpk\")\n",
    "\n",
    "def trans_opt(n,m,v_i,c_ij,d_j,m_i,p_j,F):\n",
    "\n",
    "   ###########################################\n",
    "\n",
    " #return instance.OBJ(), x_sol\n",
    "\n",
    "    model = AbstractModel()\n",
    "\n",
    "    model.I = RangeSet(0,n-1)\n",
    "    model.J = RangeSet(0,m-1)\n",
    "\n",
    "    # the next line declares a variable indexed by the set J \n",
    "    model.x = Var(model.I,model.J, domain=NonNegativeReals)\n",
    "\n",
    "    #definition of the objective function\n",
    "    def obj_expression(model): \n",
    "        return sum(sum(p_j[j]*model.x[i,j] for i in model.I) for j in model.J)-sum(\n",
    "            sum(v_i[i]*model.x[i,j] for j in model.J) for i in model.I)-sum(\n",
    "            sum(c_ij[i,j]*model.x[i,j] for j in model.J) for i in model.I)\n",
    "\n",
    "    model.OBJ = Objective(rule=obj_expression, sense=maximize)\n",
    "\n",
    "    #maximum transportation capacity\n",
    "    def flow_constraint_rule(model,i,j):\n",
    "        return model.x[i,j] <= F\n",
    "    model.max_flow = Constraint(model.I, model.J, rule=flow_constraint_rule)\n",
    "\n",
    "\n",
    "    #minimum demand constraint\n",
    "    def b_constraint_rule(model, j): # return the expression for the constraint for i\n",
    "        return sum(model.x[i,j] for i in model.I)== d_j[j]\n",
    "\n",
    "    # the next line creates one constraint for each member of the set model.J \n",
    "    model.dem_Constraint = Constraint(model.J, rule=b_constraint_rule)\n",
    "\n",
    "    #maximum production constraint\n",
    "    def a_constraint_rule(model, i): # return the expression for the constraint for i\n",
    "        return sum(model.x[i,j] for j in model.J)<= m_i[i]\n",
    "\n",
    "    model.prod_Constraint = Constraint(model.I, rule=a_constraint_rule)\n",
    "\n",
    "    instance = model.create_instance()\n",
    "    results=opt.solve(instance)\n",
    "\n",
    "\n",
    "    x_sol = np.zeros((n,m))\n",
    "    for a in range(0,n):\n",
    "        for b in range(0,m):\n",
    "            x_sol[a,b] = instance.x[a,b].value\n",
    "\n",
    "\n",
    "    return(instance.OBJ(),x_sol)"
   ]
  },
  {
   "cell_type": "code",
   "execution_count": 59,
   "metadata": {},
   "outputs": [
    {
     "name": "stdout",
     "output_type": "stream",
     "text": [
      "3153.54010061\n",
      "[[   0.   35.    0.   44.  250.  250.]\n",
      " [   0.  250.    0.    0.   70.    0.]\n",
      " [ 213.    0.    0.  250.    0.    0.]\n",
      " [  95.    0.   74.    0.    0.    0.]\n",
      " [   0.    0.  250.    0.    0.   57.]]\n"
     ]
    }
   ],
   "source": [
    "[obj,x_sol]=trans_opt(i,j,v_i,c_ij,d_j,m_i,p_j,F)\n",
    "print(obj)\n",
    "print(x_sol)"
   ]
  },
  {
   "cell_type": "markdown",
   "metadata": {},
   "source": [
    "**c)** Considering the results: which plant’s maximum capacity would be more beneﬁcial to increase? and in which market would be more beneﬁcial to increase the demand? Justify your answers."
   ]
  },
  {
   "cell_type": "code",
   "execution_count": 49,
   "metadata": {},
   "outputs": [
    {
     "name": "stdout",
     "output_type": "stream",
     "text": [
      "Variables: \n",
      "\n",
      " v_i: [ 1.59701303  1.93347299  1.56222914  2.20606982  2.34322107] \n",
      "\n",
      " c_ij: [[1 2 2 2 1 1]\n",
      " [2 2 2 2 2 1]\n",
      " [2 2 2 1 2 2]\n",
      " [2 1 2 1 1 1]\n",
      " [1 1 1 2 1 1]] \n",
      "\n",
      " d_j: [314 280 322 296 314 313] \n",
      "\n",
      " m_i: [454 476 618 568 777] \n",
      "\n",
      " p_i: [4 5 5 5 4 5] \n",
      "\n",
      " F: 312\n"
     ]
    }
   ],
   "source": [
    "print(\"Variables: \\n\\n v_i: {} \\n\\n c_ij: {} \\n\\n d_j: {} \\n\\n m_i: {} \\n\\n p_i: {} \\n\\n F: {}\".format(v_i,c_ij,d_j,m_i,p_j,F))"
   ]
  },
  {
   "cell_type": "markdown",
   "metadata": {},
   "source": [
    "For the values above, the first plant provides the maximum profit that you can obtain from the objective matrix. Summing the weights of all plants on matrix shows that the first plant has the most benefit.\n",
    "[   0.   35.    0.   44.  250.  250.]\n",
    "\n",
    "The formula to obtain the most beneficial market is the same with the most benficial plant. We can sum the values for each market, and see the most beneficial market to increase the demand. The second market is the most beneficial one to increase demand.\n",
    "[ 250.\n",
    "  70.\n",
    "  0.\n",
    "  0.\n",
    "  0.]\n"
   ]
  },
  {
   "cell_type": "markdown",
   "metadata": {},
   "source": [
    "**d)** Modify the formulation in a) to impose that:\n",
    "\n",
    "    1. Each plant is allowed to send its products to a maximum of 5 diferent markets.\n",
    "    2. Plants, if operative, cannot produce less than 10% of their maximum capacity, i.e., a plant can produce either 0 products (if not operative) or a quantity greater than 10% of its maximum capacity (if operative).\n",
    "\n",
    "Solve the resulting model in Pyomo and interpret the new results. "
   ]
  },
  {
   "cell_type": "markdown",
   "metadata": {},
   "source": [
    "$X_{ij} \\equiv$ units produced in market $i$ and sold in market $j$.  \n",
    "\n",
    "$A_{ij} \\equiv$ if the plant $i$ sends units to market $j$ 1, if not 0.\n",
    "\n",
    "$B_{i} \\equiv$ if the plant $i$ is active 1, if not 0. \n",
    "\n",
    "\n",
    "\n",
    " $$max  \\sum_{i=1}^{I}\\sum_{j=1}^{J} Xij*Pj - Xij*Vi - Xij*Cij  $$\n",
    "\n",
    "\n",
    "\n",
    "$\\displaystyle \\sum_{i=1}^{I} X_{ij} = d_{j} \\quad j=1,...,J \\quad $  \n",
    "\n",
    "$\\displaystyle \\sum_{j=1}^{J} X_{ij} \\le M_{i} B_{i} \\quad i=1,...,I \\quad $  \n",
    "\n",
    "$\\displaystyle \\sum_{j=1}^{J} X_{ij} \\ge 0.1 M_{i} B_{i}\\quad i=1,...,I \\quad $  \n",
    "\n",
    "$X_{ij} \\le A_{ij} F  \\quad j=1,...,J \\quad i=1,...,I \\quad $ \n",
    "\n",
    "$X_{ij} \\ge 0 \\quad j=1,...,J \\quad i=1,...,I \\quad $\n",
    "\n",
    "$\\displaystyle \\sum_{j=1}^{J} A_{ij} \\le 5 \\quad i=1,...,I \\quad $"
   ]
  },
  {
   "cell_type": "code",
   "execution_count": 56,
   "metadata": {
    "collapsed": true
   },
   "outputs": [],
   "source": [
    "from pyomo.environ import *\n",
    "opt = SolverFactory(\"glpk\")\n",
    "from pyomo.opt import SolverFactory\n",
    "\n",
    "def trans_opt_second(n,m,v_i,c_ij,d_j,m_i,p_j,F):\n",
    "    \n",
    "    model = AbstractModel()\n",
    "    \n",
    "    model.I = RangeSet(0,n-1)\n",
    "    model.J = RangeSet(0,m-1)\n",
    "    \n",
    "    #We create I·J non negative variables \n",
    "    model.x = Var(model.I,model.J, domain=NonNegativeReals) \n",
    "    \n",
    "    #We create I·J binary variables\n",
    "    model.a = Var(model.I,model.J, domain=Binary)\n",
    "    \n",
    "    #We create I binary variables\n",
    "    model.b = Var(model.I, domain=Binary)\n",
    "    \n",
    "    #definition of the objective function\n",
    "    def obj_expression(model): \n",
    "        return sum(sum(p_j[j]*model.x[i,j] for i in model.I) for j in model.J)-sum(\n",
    "            sum(v_i[i]*model.x[i,j] for j in model.J) for i in model.I)-sum(\n",
    "            sum(c_ij[i,j]*model.x[i,j] for j in model.J) for i in model.I)\n",
    "     \n",
    "    model.OBJ = Objective(rule=obj_expression, sense=maximize)\n",
    "    \n",
    "    #maximum transportation capacity\n",
    "    def flow_constraint_rule(model,i,j):\n",
    "        return model.x[i,j] <= F*model.a[i,j]\n",
    "    model.max_flow = Constraint(model.I, model.J, rule=flow_constraint_rule)\n",
    "\n",
    "    #minimum demand constraint\n",
    "    def b_constraint_rule(model, j): # return the expression for the constraint for i\n",
    "        return sum(model.x[i,j] for i in model.I)== d_j[j]\n",
    "\n",
    "    # the next line creates one constraint for each member of the set model.J \n",
    "    model.dem_Constraint = Constraint(model.J, rule=b_constraint_rule)\n",
    "\n",
    "    #Upper bound production constraint\n",
    "    def M_constraint_rule(model, i): \n",
    "        return sum(model.x[i,j] for j in model.J)<= m_i[i-1]*model.b[i]\n",
    "    \n",
    "    #the next line creates one constraint for each of the I plants\n",
    "    model.M_constraint = Constraint(model.I, rule=M_constraint_rule)\n",
    "    \n",
    "    #Lower bound production constraint\n",
    "    def Ml_constraint_rule(model, i): \n",
    "        return sum(model.x[i,j] for j in model.J)>= 0.1*m_i[i-1]*model.b[i]\n",
    "    \n",
    "    #the next line creates one constraint for each of the I plants\n",
    "    model.Ml_constraint = Constraint(model.I, rule=Ml_constraint_rule)\n",
    "    \n",
    "    #No more than 5 markets constraint\n",
    "    def Y_constraint_rule(model,i): \n",
    "        return   sum(model.a[i,j] for j in model.J) <= 5\n",
    "    \n",
    "    #the next line creates one constraint for each of the I plants\n",
    "    model.Y_constraint = Constraint(model.I,rule=Y_constraint_rule)\n",
    "    \n",
    "\n",
    "    instance = model.create_instance()\n",
    "    results = opt.solve(instance)\n",
    "    \n",
    "\n",
    "    x_sol = np.zeros((n,m))\n",
    "        \n",
    "    for i in range(0, n):\n",
    "            for j in range(0,m):\n",
    "                x_sol[i,j]=instance.x[i,j].value\n",
    "    \n",
    "    a_sol = np.zeros((n,m))\n",
    "    \n",
    "    for i in range(0, n):\n",
    "            for j in range(0,m):\n",
    "                a_sol[i,j]=instance.a[i,j].value\n",
    "                \n",
    "    b_sol = np.zeros(n)\n",
    "    \n",
    "    for i in range(0, n):\n",
    "        b_sol[i]=instance.b[i].value           \n",
    "    \n",
    "    return instance.OBJ(), x_sol, a_sol, b_sol"
   ]
  },
  {
   "cell_type": "code",
   "execution_count": 60,
   "metadata": {},
   "outputs": [
    {
     "name": "stdout",
     "output_type": "stream",
     "text": [
      "Obj: 3222.72059983\n",
      "\n",
      "x_sol:\n",
      " [[   0.   35.    0.   44.  250.  250.]\n",
      " [   0.  250.    0.    0.   70.    0.]\n",
      " [ 250.    0.    0.  250.    0.   57.]\n",
      " [  58.    0.   74.    0.    0.    0.]\n",
      " [   0.    0.  250.    0.    0.    0.]]\n",
      "\n",
      "a_sol:\n",
      " [[ 0.  1.  0.  1.  1.  1.]\n",
      " [ 1.  1.  1.  0.  1.  0.]\n",
      " [ 1.  0.  0.  1.  0.  1.]\n",
      " [ 1.  0.  1.  0.  0.  0.]\n",
      " [ 0.  0.  1.  0.  0.  0.]]\n",
      "\n",
      "b_sol:\n",
      " [ 1.  1.  1.  1.  1.]\n",
      "\n"
     ]
    }
   ],
   "source": [
    "[obj,x_sol,a_sol,b_sol]=trans_opt_second(i,j,v_i,c_ij,d_j,m_i,p_j,F)\n",
    "print(\"Obj: {}\".format(obj)+\"\\n\")\n",
    "print(\"x_sol:\\n {}\".format(x_sol)+\"\\n\")\n",
    "print(\"a_sol:\\n {}\".format(a_sol)+\"\\n\")\n",
    "print(\"b_sol:\\n {}\".format(b_sol)+\"\\n\")"
   ]
  },
  {
   "cell_type": "markdown",
   "metadata": {},
   "source": [
    "Here we can compare two results for two different models.\n",
    "For the second model, I obtain greater objective function value."
   ]
  }
 ],
 "metadata": {
  "kernelspec": {
   "display_name": "Python 2",
   "language": "python",
   "name": "python2"
  },
  "language_info": {
   "codemirror_mode": {
    "name": "ipython",
    "version": 2
   },
   "file_extension": ".py",
   "mimetype": "text/x-python",
   "name": "python",
   "nbconvert_exporter": "python",
   "pygments_lexer": "ipython2",
   "version": "2.7.14"
  }
 },
 "nbformat": 4,
 "nbformat_minor": 2
}
